{
  "nbformat": 4,
  "nbformat_minor": 0,
  "metadata": {
    "colab": {
      "name": "hrishikesh_SMT1_withreg.ipynb",
      "provenance": [],
      "collapsed_sections": []
    },
    "kernelspec": {
      "name": "python3",
      "display_name": "Python 3"
    }
  },
  "cells": [
    {
      "cell_type": "code",
      "metadata": {
        "id": "iholFao69GSl"
      },
      "source": [
        "import numpy as np\n",
        "import matplotlib.pyplot as plt\n",
        "import random\n",
        "import math"
      ],
      "execution_count": null,
      "outputs": []
    },
    {
      "cell_type": "code",
      "metadata": {
        "id": "HL1wT-vls2cE"
      },
      "source": [
        "def relu(x):\n",
        "    # input is numpy\n",
        "    y1 = np.multiply([0.01],x)\n",
        "    return np.maximum(x,y1)\n",
        "    #return np.maximum(x,0)\n",
        "\n",
        "vfunc = np.vectorize(lambda x : 1 if x > 0 else 0.01,  otypes=[np.float])  ## vectorizing allows us to apply arbitrary function to all the element of a numpy vector\n",
        "def relu_derivative(x):\n",
        "    # input is numpy vector\n",
        "    return vfunc(x)\n",
        "    #return (x > 0).astype(int)  # this replaces all the positive value by 1 and rest by 0\n",
        "\n",
        "def sigmoid(x):\n",
        "    # input is numpy vector\n",
        "    return 1.0/(1.0+np.exp(-x))\n",
        "\n",
        "def sigmoid_derivative(x):\n",
        "    return sigmoid(x) * (1-sigmoid(x))\n",
        "\n",
        "def mean_square_derivative(output_activations, y):\n",
        "    return (output_activations-y)\n",
        "\n",
        "# following function will be used to transfor the training lables for digits recognition\n",
        "def vectorized_result(j): \n",
        "    # Returns 10-size column with 1 at jth position and rest are 0\n",
        "    e = np.zeros((10, 1))\n",
        "    e[j] = 1.0\n",
        "    return e\n",
        "#print(relu_derivative(relu([[1],[2.1],[-2]])))"
      ],
      "execution_count": null,
      "outputs": []
    },
    {
      "cell_type": "markdown",
      "metadata": {
        "id": "DHkH5RhOtAP0"
      },
      "source": [
        "**Network 1**"
      ]
    },
    {
      "cell_type": "code",
      "metadata": {
        "id": "cOGvH-ERs-Ts"
      },
      "source": [
        "class Network:\n",
        "    def __init__(self, sizes, activation_func = sigmoid, activation_derivative = sigmoid_derivative,reg_constant=0):\n",
        "        \"\"\"\n",
        "        Objective: Intialize the network\n",
        "        Input:sizes - tuple representing number of neurons in each layer from left to right\n",
        "              Note: sizes[0] is the number of inputs: they are not neurons per se\n",
        "              E.g., sizes = (5,4,2) means that there are 5 inputs, 4 neurons in the first hidden layer, and 2 neurons\n",
        "              in the ouput layer.\n",
        "        \"\"\"\n",
        "        self.train_cost_history= []    ## Can be used to store costs w.r.t training data w.r.t iteration number\n",
        "        self.test_cost_history = []    ## Can be used to store costs w.r.t testing data w.r.t iteration number\n",
        "        self.sizes = sizes\n",
        "        self.activation_func = activation_func\n",
        "        self.activation_derivative = activation_derivative\n",
        "        self.cost_derivative = mean_square_derivative\n",
        "\n",
        "        self.num_layers = len(sizes)   ### Number of layers is length of list sizes\n",
        "        \n",
        "        self.biases = [np.random.randn(number_of_neurons,1) for number_of_neurons in sizes[1:]]\n",
        "        \n",
        "        self.weights = [np.random.randn(y,x) for (x,y) in zip(sizes[:-1],sizes[1:]) ]\n",
        "        #sizes[:-1] is just sizes, and sizes[1:] is every layer that isn't the input, so zip([s0,s1..sn],[s1,...sn])\n",
        "        #so we get weights as metrices of sizes s1xs0, s2xs1... snxsn-1(where matrix sixsi-1 corresponds to the transition)\n",
        "        #from the i-1th layer to the ith.\n",
        "\n",
        "\n",
        "        self.reg_constant=reg_constant #for problem 3\n",
        "    \n",
        "    \n",
        "    def feedforward_full(self,x):   #maybe don't need to define this as a function(can write directly in backprop??)\n",
        "        #input x;\n",
        "        f=x\n",
        "        inputs_per_node = [] #for convenience, we say layer 1 has no input(no incoming edges).\n",
        "        outputs_per_node = [f]#first layer's output is just the input, since the layer does nothing\n",
        "        for b, w in zip(self.biases, self.weights):\n",
        "            p = np.dot(w,f)+b\n",
        "            inputs_per_node.append(p) #input_per_node[i] gives the value going into the nodes in layer i+1\n",
        "            f = self.activation_func(p)\n",
        "            outputs_per_node.append(f)#output_per_node[i] gives the vale going out of the nodes in  layer i+1\n",
        "        return inputs_per_node,outputs_per_node #inputs,outputs of each layer. In particular, output_per_node[-1] give the \n",
        "    #output of the network\n",
        "    def cost_derivative(self, lm,ao):\n",
        "      return(lm-ao) #here, lm,ao are numpy arrays\n",
        "    def feedforward(self,x):\n",
        "      #return (self.feedforward_full(x)[-1][-1]) #feed_forward_full[-1] gives output_per node \n",
        "      for b,w in zip(self.biases, self.weights):\n",
        "        x = self.activation_func(np.dot(w, x)+b)\n",
        "      return x    \n",
        "    def SGD(self, training_data, epochs, mini_batch_size, learning_rate, test_data=None):\n",
        "        \"\"\"\n",
        "        Objective: Stochastic Gradient Descent\n",
        "        1. tranining_data is a python list of tuples of the form (x, y) \n",
        "        where x is the input vector (numpy matrix of size (n x 1)) and y is the output label\n",
        "        2. epochs is the number of epochs\n",
        "        3. mini_batch_size is the size of single mini-batch on which we will perform the backpropogation\n",
        "        4. learning_rate is learning rate!\n",
        "        5. test_data is optional in the same format as training data: can be used to calculate accuracy on each\n",
        "        iteration. (Ignore test_data while implementing for first time)\n",
        "        \"\"\"\n",
        "        #print(\"start sgd\")\n",
        "        if(self.num_layers ==1 or self.num_layers ==0):#takes care of cases where SGD isn't possible. In the case where\n",
        "            #sizes has length 1, the network just takes the input and does nothing. So that's pointless.\n",
        "            print(\"Bad Network\")\n",
        "            return None#not sure what to put here. Or what to return :/\n",
        "        #print(\"Not bad Network\")\n",
        "        num_batches = len(training_data)/mini_batch_size\n",
        "        #print(\"mini batch size is\", mini_batch_size)\n",
        "        #TODO: Create batches, and call apply_backprop_on_batch on each batch\n",
        "        #creating batches\n",
        "        #print(\"init biases\\n\",self.biases)\n",
        "        set_of_average_costs = []\n",
        "        set_of_average_costs1 = []\n",
        "        #print(test_data)\n",
        "\n",
        "\n",
        "        #vectorizing the test_data ..which is currently of the form [([[1],[2]..],7)]\n",
        "        vectorized_test_data = []\n",
        "        for p,q in test_data:\n",
        "          i=0\n",
        "          for i in range(10):\n",
        "            if q==i:\n",
        "              q=vectorized_result(i)\n",
        "              break\n",
        "          vectorized_test_data.append((p,q))  #note this part is only used for calculating the cost of test data per epoch\n",
        "\n",
        "\n",
        "        for it in range(epochs):\n",
        "          #print(\"epoch\")\n",
        "          #print(\"loop1\")\n",
        "          #t = np.random.shuffle(training_data) # had error t= np.random.shuffle(training_data) returns None...\n",
        "          t = training_data\n",
        "          #print(type(t))\n",
        "          np.random.shuffle(training_data) #workaround. If this works, we might as well just say suffle(training data) and\n",
        "          #replace alll occurences of t with our shuffled training data\n",
        "          #print(t)\n",
        "          #print(\"dafsdf\",t)\n",
        "          #j=0\n",
        "          i=0\n",
        "          set_of_batches = []\n",
        "          while(i<num_batches):\n",
        "            mini_batch_in_creation = []\n",
        "            j=0\n",
        "            while(j<mini_batch_size and (i*mini_batch_size+j)<len(training_data)):\n",
        "              #print(\"fadfdsfafdsfdsfdafdsafdsfdsfdsfdsfdsafdsfdsfdsf\",mini_batch_in_creation)\n",
        "              mini_batch_in_creation = mini_batch_in_creation+[t[i*mini_batch_size+j]]\n",
        "              j=j+1\n",
        "            set_of_batches = set_of_batches+ [mini_batch_in_creation]\n",
        "            i=i+1        \n",
        "            #set_of_batches stores each set of mini batches\n",
        "          for batch in set_of_batches:\n",
        "              self.apply_backprop_on_batch(batch,learning_rate)\n",
        "              #this updates the weights and biases of the network\n",
        "          #average_cost_after_epoch =\n",
        "          #from this onwards... is for question 2(storing train & test costs per epoch)\n",
        "          sum_square_weights=0\n",
        "          for i in self.weights:\n",
        "            j = np.square(i)\n",
        "            sum_square_weights = sum_square_weights + np.sum(j)           #############################################sum of square of the weights  for regularization\n",
        "          average_training_cost_for_epoch=0\n",
        "          for x,y in training_data:\n",
        "            total_output = self.feedforward(x)\n",
        "            mse_on_node = [[(p-q)*(p-q)/2 for p,q in zip(r,s)] for r,s in zip(total_output,y)]\n",
        "            i=0\n",
        "            for s in mse_on_node:\n",
        "              i=i+s[0]\n",
        "            #the above sum stores the mean square part of the cost function. Below, we add reg_constant*sum_square_weights for regularization(question 3):\n",
        "            i=i+(((self.reg_constant)*sum_square_weights)/(2*len(training_data)))  #from the + is reg term\n",
        "            i = i/(len(total_output)) #so for anything in training data, cost is now the usual cost +lambda/(length of output) * sum of sqaure of weights/len(training_data)..\n",
        "            #i.e this is regularized (...? we do not really need the len(total_output) part as its a constant for a network) \n",
        "            average_training_cost_for_epoch = average_training_cost_for_epoch + i\n",
        "          average_training_cost_for_epoch = average_training_cost_for_epoch/len(training_data)#averaging costs\n",
        "          set_of_average_costs = set_of_average_costs +[average_training_cost_for_epoch]\n",
        "          \n",
        "          average_test_cost_for_epoch=0\n",
        "          for x,y in vectorized_test_data:\n",
        "            #print(y)\n",
        "            total_output1 = self.feedforward(x)\n",
        "            mse_on_node1 = [[(p-q)*(p-q)/2 for p,q in zip(r,s)] for r,s in zip(total_output1,y)]\n",
        "            i=0\n",
        "            for s in mse_on_node1:\n",
        "              i=i+s[0]\n",
        "            #the above sum stores the mean square part of the cost function.Below, we add reg_constant*sum_square_weights for regularization(for question 3):\n",
        "            i=i+(((self.reg_constant)*sum_square_weights)/(2*len(vectorized_test_data)))#..................\n",
        "            i = i/(len(total_output1))#...............................................................................................\n",
        "            #.........................................................................\n",
        "            average_test_cost_for_epoch = average_test_cost_for_epoch + i\n",
        "          average_test_cost_for_epoch = average_test_cost_for_epoch/len(vectorized_test_data)\n",
        "          set_of_average_costs1 = set_of_average_costs1 +[average_test_cost_for_epoch]\n",
        "        \n",
        "        #print(\"Set of average training costs: \",set_of_average_costs)\n",
        "        #print(\"Set of average test costs: \",set_of_average_costs1)            \n",
        "        self.train_cost_history = set_of_average_costs\n",
        "        self.test_cost_history = set_of_average_costs1        \n",
        "        print(\"End of SGD\")                \n",
        "            ####\n",
        "        \n",
        "        #pass\n",
        "    \n",
        "    def apply_backprop_on_batch(self, batch, learning_rate):\n",
        "        \"\"\"\n",
        "        Applies the backprop on the given batch and updates weights and biases\n",
        "        \n",
        "        \"\"\"\n",
        "        #print(\"\\n new batch\")\n",
        "        #print(\"\\n\", batch)\n",
        "        #gradient_biases = [np.zeros(b.shape) for b in self.biases]\n",
        "        #gradient_weights = [np.zeros(w.shape) for w in self.weights]\n",
        "        #print(self.sizes)\n",
        "        #batch_size = len(batch)\n",
        "        sum_of_gradient_biases = [np.zeros(x.shape) for x in self.biases]\n",
        "        sum_of_gradient_weights = [np.zeros(y.shape) for y in self.weights]\n",
        "        #sum_of_gradient_biases = \n",
        "        for x,y in batch:\n",
        "            # x, y is one training example\n",
        "            gradient_biases_on_example, gradient_weights_on_example = self.apply_backprop_on_example(x,y)\n",
        "            #print(\"\\nbazangons\\n\",gradient_biases_on_example,\"\\nbazinga\\n\",gradient_weights_on_example,\"\\nbazongo\")\n",
        "            #print(gradient_biases_on_example,\"\\n\\n\\n\")\n",
        "            sum_of_gradient_biases = [a+b for a,b in zip(sum_of_gradient_biases,gradient_biases_on_example) ]\n",
        "            #print(sum_of_gradient_biases)\n",
        "            sum_of_gradient_weights = [a+b for a,b in zip(sum_of_gradient_weights, gradient_weights_on_example)]\n",
        "        #note we can get rid of the \"x in\" part and get the same thing, but as arr([....])...?!\n",
        "        #now we update biases'\n",
        "        #print(sum_of_gradient_weights)\n",
        "        self.biases = [(bias-((learning_rate/len(batch))*sigma_bias_gradients)) for bias,sigma_bias_gradients in zip(self.biases,sum_of_gradient_biases)]\n",
        "        #print(\"adfssssssssss\\n\\n\\n\",self.biases)\n",
        "        #now we update weights\n",
        "        self.weights = [(weight-(((learning_rate/len(batch))*sigma_weight_gradients))) for weight,sigma_weight_gradients in zip(self.weights,sum_of_gradient_weights)]\n",
        "        #have not tested the above two syntax wise..thought similar as the others(if error,check these as well) \n",
        "        #print(\"bias afte batch\\n\",self.biases)\n",
        "        #we have now updated the biases and weights of the network\n",
        "        \n",
        "            # TODO\n",
        "        #pass\n",
        "        \n",
        "    def apply_backprop_on_example(self, x, y ):\n",
        "        \"\"\"\n",
        "        Applies backpropagation and calculates partial derivates for all the weights and biases\n",
        "        for one given example (x,y)\n",
        "        NOTE: It does NOT updates weights/biases. That is done by the caller function\n",
        "        \"\"\"\n",
        "        #print(\"weights before example\", self.weights)\n",
        "        #print(\"\\n Biases before example\", self.biases)\n",
        "        input_per_node,output_per_node = self.feedforward_full(x)\n",
        "        #print(\"adfadffd\\n\",input_per_node)\n",
        "\n",
        "        biases_gradients = [np.zeros(b.shape) for b in self.biases]\n",
        "        weights_gradients = [np.zeros(w.shape) for w in self.weights]\n",
        "                \n",
        "        #now we find the \"error\" per node.        \n",
        "        #final_output = output_per_node[-1]\n",
        "        error_per_node = self.cost_derivative(output_per_node[-1],y)#*(self.activation_derivative(input_per_node[-1]))\n",
        "        #print(\"error_per_node(-1).......\\n\",error_per_node)\n",
        "        #this is the \"error\" in the final layer..kinda\n",
        "        #print(error_per_node)\n",
        "        #print(error_per_node[-1])\n",
        "        #note: error in layer 1 doesn't make sense. Either put 0 for each node there, or just leave it\n",
        "        #also, in SGD we have put the condition that the number of layers is at least two.\n",
        "        biases_gradients[-1] = error_per_node\n",
        "        #weights_gradients[-1] = np.dot(error_per_node,output_per_node[-2].transpose()) #this is for the non regularized version\n",
        "        weights_gradients[-1] = np.add(np.dot(error_per_node,output_per_node[-2].transpose()),((self.weights[-1]*self.reg_constant)/len(training_data)))#regularized version.......................\n",
        "\n",
        "        for i in range(2,self.num_layers):#this is where we actually propogate backwards along the layers\n",
        "          p = input_per_node[-i]\n",
        "          ww = self.activation_derivative(p)\n",
        "          error_per_node = np.dot(self.weights[-i+1].transpose(),error_per_node)*ww\n",
        "          biases_gradients[-i] = error_per_node\n",
        "          #weights_gradients[-i] = np.dot(error_per_node,output_per_node[-i-1].transpose())#for the non regularized version\n",
        "          weights_gradients[-i] = np.add(np.dot(error_per_node,output_per_node[-i-1].transpose()),(self.weights[-i]*((self.reg_constant)/len(training_data))))#regularized version.................\n",
        "\n",
        "        return biases_gradients, weights_gradients\n",
        "    \n",
        "    def test_accuracy(self, test_data):\n",
        "      i=0\n",
        "      #print(type(test_data[0][1]))\n",
        "      if type(test_data[0][1])==np.uint8:# or type(test_data[0][1])==np.int64:   #we are presented with test data where inputs are vectorized, but desired outputs are given as integers form 0 to 9\n",
        "        j=0                                                                    #uint8 is the type of test data for digit, while int64 is that of shapes\n",
        "        p=len(test_data)\n",
        "        for ii in range (p):\n",
        "          #plt.imshow(x_test[i],  cmap='gray')\n",
        "          #print(\"Label is:\", y_test[i])\n",
        "          #print(\"Network's Prediction:\", np.argmax(net.feedforward(x_test_vectorized[i])))\n",
        "          if (test_data[ii][1] == np.argmax(net.feedforward(test_data[ii][0]))):\n",
        "            j=j+1\n",
        "        return(j/p)        \n",
        "      else: #here, both input and desired outputs are given in vectorized form  .....type numpy.ndarray (maybe add else condition for wrong types of test_data given?)\n",
        "        for t in test_data:\n",
        "          s = self.feedforward(t[0])\n",
        "          if np.argmax(s) == np.argmax(t[1]):\n",
        "            i=i+1\n",
        "            #print(\"\\n afsdgdsfsfdgfhgd\",i)\n",
        "          #print(i,\"/\",len(test_data))  \n",
        "        return(i/len(test_data)) \n",
        "        #pass\n",
        "        \n",
        "        \n",
        "            "
      ],
      "execution_count": null,
      "outputs": []
    },
    {
      "cell_type": "markdown",
      "metadata": {
        "id": "VOTR8MM3tHpv"
      },
      "source": [
        "**Digit recognition using Network**\n",
        "We import the data from mnist."
      ]
    },
    {
      "cell_type": "code",
      "metadata": {
        "id": "oNS_HHcltNzf"
      },
      "source": [
        "import keras\n",
        "from keras.datasets import mnist  # NOTE: keras is only used to import data\n",
        "\n",
        "(x_train, y_train), (x_test, y_test) = mnist.load_data()\n",
        "y_train_vectorized = list(map(vectorized_result, y_train))   # This will convert digit 0 to [1.0,0,0,0..0], 1 to [0,1.0,0,0...0] and so on...\n",
        "x_train_vectorized = list(map(lambda x: np.reshape(x, (784,1))/255, x_train)) \n",
        "#print(y_train_vectorized[0])\n",
        "\n",
        "training_data = list(zip(x_train_vectorized, y_train_vectorized))\n",
        "#print(training_data[0])\n",
        "\n",
        "x_test_vectorized = list(map(lambda x: np.reshape(x, (784,1))/255, x_test)) \n",
        "test_data = list(zip(x_test_vectorized, y_test))   # Notice carefully that we have not vectorized the y_test\n",
        "#print(y_test)\n",
        "#print(test_data)\n",
        "#print(type(training_data[0][1]))"
      ],
      "execution_count": null,
      "outputs": []
    },
    {
      "cell_type": "markdown",
      "metadata": {
        "id": "PrqyKz9CtRJX"
      },
      "source": [
        "Training"
      ]
    },
    {
      "cell_type": "code",
      "metadata": {
        "id": "wI3SFcaytT_j",
        "colab": {
          "base_uri": "https://localhost:8080/",
          "height": 34
        },
        "outputId": "ac376f4e-642b-436e-cf0d-9fa5bba8ec0f"
      },
      "source": [
        "#net = Network([784, 16, 10],activation_func = relu, activation_derivative = relu_derivative)\n",
        "#net.SGD(training_data[:1000], 30, 10, 0.01, test_data=test_data)   # using training_data[:20000] just to make epochs faster. Consider using full training data\n",
        "#when using 0.1 relu invalid value encountered????\n",
        "net = Network([784, 16, 10],reg_constant=0.01)#,activation_func = relu, activation_derivative = relu_derivative) #..................added regularization constant\n",
        "net.SGD(training_data[:5000], 30, 50, 0.1, test_data=test_data)   # using training_data[:20000] just to make epochs faster. Consider using full training data\n",
        "#print(net.test_accuracy(training_data[:1000]))\n",
        "#net.test_accuracy(test_data) \n",
        "#there are two print things commented in sgd that can be used to print the set of average costs of training, test data "
      ],
      "execution_count": null,
      "outputs": [
        {
          "output_type": "stream",
          "text": [
            "End of SGD\n"
          ],
          "name": "stdout"
        }
      ]
    },
    {
      "cell_type": "code",
      "metadata": {
        "id": "3cJgFkcftWrY"
      },
      "source": [
        "#--NotebookApp.iopub_data_rate_limit=1e10"
      ],
      "execution_count": null,
      "outputs": []
    },
    {
      "cell_type": "code",
      "metadata": {
        "id": "qNVn4htFtZSY",
        "colab": {
          "base_uri": "https://localhost:8080/",
          "height": 34
        },
        "outputId": "902c7579-49ad-4f69-e73c-a393434f4aa6"
      },
      "source": [
        "  j=0\n",
        "  p=1000\n",
        "  for i in range (p):\n",
        "    #plt.imshow(x_test[i],  cmap='gray')\n",
        "    #print(\"Label is:\", y_test[i])\n",
        "    #print(\"Network's Prediction:\", np.argmax(net.feedforward(x_test_vectorized[i])))\n",
        "    if (y_test[i] == np.argmax(net.feedforward(x_test_vectorized[i]))):\n",
        "       j=j+1\n",
        "  print(j/p)"
      ],
      "execution_count": null,
      "outputs": [
        {
          "output_type": "stream",
          "text": [
            "0.783\n"
          ],
          "name": "stdout"
        }
      ]
    },
    {
      "cell_type": "markdown",
      "metadata": {
        "id": "fJssJoh8vl5i"
      },
      "source": [
        "**Graph**\n",
        "    :The code prints three waves on a graph."
      ]
    },
    {
      "cell_type": "code",
      "metadata": {
        "id": "pY3yQSxUvikv",
        "colab": {
          "base_uri": "https://localhost:8080/",
          "height": 295
        },
        "outputId": "b82c07af-36dc-4da6-dffd-e3366aa58b09"
      },
      "source": [
        "\n",
        "n1 = 10\n",
        "n2 = 20\n",
        "amp = 4\n",
        "#time = [i/1000.0 for i in range (0,1000)] # for one second\n",
        "time = [i for i in range (30)] #number of epochs \n",
        "# let angular velocity be 1 radian per second\n",
        "#wave1 = [amp*math.sin(n1*t)  for t in time]\n",
        "wave1 = [error for error in net.train_cost_history]\n",
        "wave2 = [error for error in net.test_cost_history]\n",
        "####superposition of two waves is obtained by adding their values at each instance of time\n",
        "superposition = [wave1[i] + wave2[i] for i in range(len(time))]\n",
        "plt.plot(time, wave1, 'b--', label = \"Wave #1\")\n",
        "plt.plot(time,wave2, 'g',  label = \"Wave #2\")\n",
        "plt.plot(time, superposition, 'r-',  label = \"Superposition of wave #1 and wave #2\")\n",
        "plt.legend()\n",
        "plt.xlabel(\"Time - t\")\n",
        "plt.ylabel(\"Dispacement - x\")\n",
        "plt.title(\"Superposition of two waves\")\n",
        "plt.grid()\n",
        "plt.show()"
      ],
      "execution_count": null,
      "outputs": [
        {
          "output_type": "display_data",
          "data": {
            "image/png": "[encoded data removed]",
            "text/plain": [
              "<Figure size 432x288 with 1 Axes>"
            ]
          },
          "metadata": {
            "tags": [],
            "needs_background": "light"
          }
        }
      ]
    },
    {
      "cell_type": "markdown",
      "metadata": {
        "id": "ACN9Cb8mvuMr"
      },
      "source": [
        "**Shapes NN**"
      ]
    },
    {
      "cell_type": "code",
      "metadata": {
        "id": "XPFrRVbBv0cO",
        "colab": {
          "base_uri": "https://localhost:8080/",
          "height": 487
        },
        "outputId": "568c1d2c-d365-49ba-f766-27e872f60f9d"
      },
      "source": [
        "!pip install drawSvg"
      ],
      "execution_count": null,
      "outputs": [
        {
          "output_type": "stream",
          "text": [
            "Collecting drawSvg\n",
            "  Downloading https://files.pythonhosted.org/packages/dc/20/0dd846c0a2aa5ab660f961201c171fb82d8ce1b6efc411f1ba8ce08f43d1/drawSvg-1.6.1-py3-none-any.whl\n",
            "Requirement already satisfied: imageio in /usr/local/lib/python3.6/dist-packages (from drawSvg) (2.4.1)\n",
            "Collecting cairoSVG\n",
            "\u001b[?25l  Downloading https://files.pythonhosted.org/packages/8e/3a/762f9272c20db092f4d537aaf364dd0770ecf8f7101b58c4e933e99ee2f6/CairoSVG-2.4.2-py3-none-any.whl (50kB)\n",
            "\u001b[K     |████████████████████████████████| 51kB 2.7MB/s \n",
            "\u001b[?25hRequirement already satisfied: numpy in /usr/local/lib/python3.6/dist-packages (from drawSvg) (1.18.5)\n",
            "Requirement already satisfied: pillow in /usr/local/lib/python3.6/dist-packages (from imageio->drawSvg) (7.0.0)\n",
            "Requirement already satisfied: defusedxml in /usr/local/lib/python3.6/dist-packages (from cairoSVG->drawSvg) (0.6.0)\n",
            "Collecting tinycss2\n",
            "\u001b[?25l  Downloading https://files.pythonhosted.org/packages/94/2c/4e501f9c351343c8ba10d70b5a7ca97cdab2690af043a6e52ada65b85b6b/tinycss2-1.0.2-py3-none-any.whl (61kB)\n",
            "\u001b[K     |████████████████████████████████| 71kB 4.9MB/s \n",
            "\u001b[?25hCollecting cssselect2\n",
            "  Downloading https://files.pythonhosted.org/packages/72/bb/9ad85eacc5f273b08bd5203a1d587479a93f27df9056e4e5f63276f4fd0e/cssselect2-0.3.0-py3-none-any.whl\n",
            "Collecting cairocffi\n",
            "\u001b[?25l  Downloading https://files.pythonhosted.org/packages/f7/99/b3a2c6393563ccbe081ffcceb359ec27a6227792c5169604c1bd8128031a/cairocffi-1.1.0.tar.gz (68kB)\n",
            "\u001b[K     |████████████████████████████████| 71kB 4.9MB/s \n",
            "\u001b[?25hRequirement already satisfied: webencodings>=0.4 in /usr/local/lib/python3.6/dist-packages (from tinycss2->cairoSVG->drawSvg) (0.5.1)\n",
            "Requirement already satisfied: setuptools>=39.2.0 in /usr/local/lib/python3.6/dist-packages (from tinycss2->cairoSVG->drawSvg) (50.3.0)\n",
            "Requirement already satisfied: cffi>=1.1.0 in /usr/local/lib/python3.6/dist-packages (from cairocffi->cairoSVG->drawSvg) (1.14.2)\n",
            "Requirement already satisfied: pycparser in /usr/local/lib/python3.6/dist-packages (from cffi>=1.1.0->cairocffi->cairoSVG->drawSvg) (2.20)\n",
            "Building wheels for collected packages: cairocffi\n",
            "  Building wheel for cairocffi (setup.py) ... \u001b[?25l\u001b[?25hdone\n",
            "  Created wheel for cairocffi: filename=cairocffi-1.1.0-cp36-none-any.whl size=88591 sha256=d4f5f5759a3d10b309f41e2ec54ffbd8ffa2959a43c63d2fa092d51a591a5c87\n",
            "  Stored in directory: /root/.cache/pip/wheels/11/5e/47/167d9dfd5fa5850dd0cd3db80afe6db46e620edec3419dce5a\n",
            "Successfully built cairocffi\n",
            "Installing collected packages: tinycss2, cssselect2, cairocffi, cairoSVG, drawSvg\n",
            "Successfully installed cairoSVG-2.4.2 cairocffi-1.1.0 cssselect2-0.3.0 drawSvg-1.6.1 tinycss2-1.0.2\n"
          ],
          "name": "stdout"
        }
      ]
    },
    {
      "cell_type": "code",
      "metadata": {
        "id": "Bl5y10V_v4at"
      },
      "source": [
        "import drawSvg as draw\n",
        "\n",
        "def drawRect(d, x, y, color):\n",
        "    d.append(draw.Rectangle(x,y,9,9, fill=color,))\n",
        "    d.setPixelScale(2)  # Set number of pixels per geometry unit\n",
        "    # Display in Jupyter notebook\n",
        "    d.rasterize()  # Display as PNG\n",
        "    return d  # Display as SVG\n",
        "\n",
        "def rgb2hex(r,g,b):\n",
        "    return \"#{:02x}{:02x}{:02x}\".format(r,g,b)\n",
        "\n",
        "def flattenMatrix(shape):\n",
        "    out = list()\n",
        "    for row in shape:\n",
        "        out.extend(row)\n",
        "    return out\n",
        "\n",
        "\n",
        "def drawMatrix(mat, color = None):\n",
        "    # values expected b/w 0 and 1\n",
        "    if color == None:\n",
        "        r,g,b = 255,0,0\n",
        "    else:\n",
        "        r,g,b = color\n",
        "    m = len(mat)\n",
        "    n = len(mat[0])\n",
        "    d = draw.Drawing(n*10, m*10, displayInline=False)\n",
        "    for row in range(0,m):\n",
        "        for col in range(0,n):\n",
        "            x,y= col*10, (m-1-row)*10\n",
        "            active = mat[row][col]\n",
        "            color = rgb2hex(round(r*active), round(g*active), round(b*active))\n",
        "            drawRect(d, x, y, color)\n",
        "    return d"
      ],
      "execution_count": null,
      "outputs": []
    },
    {
      "cell_type": "code",
      "metadata": {
        "id": "bzM0qtKTv7pN",
        "colab": {
          "base_uri": "https://localhost:8080/",
          "height": 97
        },
        "outputId": "75c6a241-baa6-486e-a41e-fc7fe0fce306"
      },
      "source": [
        "cap = [[0.9,0.9,0.9,0.9],[0.9,0,0,0.9],[0.9,0,0,0.9],[0,0,0,0]]\n",
        "L_shape = [[0.9,0,0,0],[0.9,0,0,0],[0.9,0,0,0],[0.9,0.9,0.9,0.9]]\n",
        "square = [[0.9,0.9,0.9,0.9],[0.9,0,0,0.9],[0.9,0,0,0.9],[0.9,0.9,0.9,0.9]]\n",
        "\n",
        "mat = np.random.randint(low = 0, high = 2, size = (4,4))\n",
        "drawMatrix(cap).rasterize()"
      ],
      "execution_count": null,
      "outputs": [
        {
          "output_type": "execute_result",
          "data": {
            "image/png": "[encoded data removed]",
            "text/plain": [
              "<drawSvg.raster.Raster at 0x7f58fa6ae5f8>"
            ]
          },
          "metadata": {
            "tags": []
          },
          "execution_count": 115
        }
      ]
    },
    {
      "cell_type": "code",
      "metadata": {
        "id": "brhAX4pGv9uZ",
        "colab": {
          "base_uri": "https://localhost:8080/",
          "height": 97
        },
        "outputId": "a877eb1b-c04e-4643-d490-f1920588a07a"
      },
      "source": [
        "drawMatrix(L_shape).rasterize()"
      ],
      "execution_count": null,
      "outputs": [
        {
          "output_type": "execute_result",
          "data": {
            "image/png": "[encoded data removed]",
            "text/plain": [
              "<drawSvg.raster.Raster at 0x7f58fa6a9dd8>"
            ]
          },
          "metadata": {
            "tags": []
          },
          "execution_count": 116
        }
      ]
    },
    {
      "cell_type": "markdown",
      "metadata": {
        "id": "ySdgPvDVwFsR"
      },
      "source": [
        "# Network to detect the shapes : L-Shape, Square, Cap\n"
      ]
    },
    {
      "cell_type": "code",
      "metadata": {
        "id": "lLGuxk0XwCm2",
        "colab": {
          "base_uri": "https://localhost:8080/",
          "height": 84
        },
        "outputId": "83b34fea-d428-4c6f-a730-c717fa99cedf"
      },
      "source": [
        "shape_net = Network([16,6,4],reg_constant=0.001)   # 16 is number of inputs, 4 is the number of outputs\n",
        "#.....................with regularization.....................\n",
        "flatten_cap = np.array(cap).reshape((16,1))\n",
        "out = shape_net.feedforward(flatten_cap)\n",
        "result = np.argmax(out)\n",
        "print(out)"
      ],
      "execution_count": null,
      "outputs": [
        {
          "output_type": "stream",
          "text": [
            "[[0.23789998]\n",
            " [0.6216285 ]\n",
            " [0.9436786 ]\n",
            " [0.10897289]]\n"
          ],
          "name": "stdout"
        }
      ]
    },
    {
      "cell_type": "code",
      "metadata": {
        "id": "TDA6rww5wLSB",
        "colab": {
          "base_uri": "https://localhost:8080/",
          "height": 97
        },
        "outputId": "819efd75-a7fc-4745-e795-35424bbb52ba"
      },
      "source": [
        "# Create dataset for training\n",
        "def getNoiseMatrix(mat):\n",
        "    return np.array(mat) + np.random.normal(0, .05, np.array(mat).shape)\n",
        "drawMatrix(getNoiseMatrix(square).tolist()).rasterize()"
      ],
      "execution_count": null,
      "outputs": [
        {
          "output_type": "execute_result",
          "data": {
            "image/png": "[encoded data removed]",
            "text/plain": [
              "<drawSvg.raster.Raster at 0x7f58f3341048>"
            ]
          },
          "metadata": {
            "tags": []
          },
          "execution_count": 118
        }
      ]
    },
    {
      "cell_type": "code",
      "metadata": {
        "id": "OGTpzocVwOE-",
        "colab": {
          "base_uri": "https://localhost:8080/",
          "height": 198
        },
        "outputId": "93a67ed5-44aa-4b5e-f151-7226ebd3d45b"
      },
      "source": [
        "training_shapes = []\n",
        "training_shapes_labels = []  ## Label would be [Square, Cap, L, other] :: [1,0,0]\n",
        "## Test label mapping:  Square = 0, Cap = 1, L = 2, other = 3\n",
        "\n",
        "def createShapeData(size):\n",
        "    \"\"\"\n",
        "    This function is used to create artificial data for training shape detector\n",
        "    \"\"\"\n",
        "    shapes = []\n",
        "    labels = []\n",
        "    for i in range(size//4):\n",
        "        noised_square = getNoiseMatrix(square).reshape((16,1))\n",
        "        noised_cap = getNoiseMatrix(cap).reshape((16,1))\n",
        "        noised_L = getNoiseMatrix(L_shape).reshape((16,1))\n",
        "        other =  np.random.normal(.5, .5, (16,1))\n",
        "        \n",
        "        shapes.extend([noised_square, noised_cap, noised_L, other])\n",
        "        labels.extend(map(convert_to_np_label, [[1,0,0,0], [0,1,0,0], [0,0,1,0], [0,0,0,1]]))\n",
        "    return shapes, labels\n",
        "\n",
        "def convert_to_np_label(lst):\n",
        "    return np.array(lst).reshape(4,1)\n",
        "        \n",
        "training_shapes, training_labels = createShapeData(1000) \n",
        "test_shapes, test_labels = createShapeData(200) \n",
        "# need to convert test_labels to numbers\n",
        "test_labels = [np.argmax(i) for i in test_labels]\n",
        "# zip the data for Network\n",
        "s_training_data = list(zip(training_shapes, training_labels))\n",
        "s_test_data = list(zip(test_shapes, test_labels))\n",
        "print(type(s_test_data[0][1]))\n",
        "print(type(s_training_data[0][1]))\n",
        "\n",
        "print(training_labels[1])\n",
        "drawMatrix(training_shapes[2].reshape(4,4).tolist()).rasterize()"
      ],
      "execution_count": null,
      "outputs": [
        {
          "output_type": "stream",
          "text": [
            "<class 'numpy.int64'>\n",
            "<class 'numpy.ndarray'>\n",
            "[[0]\n",
            " [1]\n",
            " [0]\n",
            " [0]]\n"
          ],
          "name": "stdout"
        },
        {
          "output_type": "execute_result",
          "data": {
            "image/png": "[encoded data removed]",
            "text/plain": [
              "<drawSvg.raster.Raster at 0x7f592e66fc18>"
            ]
          },
          "metadata": {
            "tags": []
          },
          "execution_count": 119
        }
      ]
    },
    {
      "cell_type": "markdown",
      "metadata": {
        "id": "os0wUFF4wUOe"
      },
      "source": [
        "## Train the shape_net with the generated data"
      ]
    },
    {
      "cell_type": "code",
      "metadata": {
        "id": "D269lusGwU6O",
        "colab": {
          "base_uri": "https://localhost:8080/",
          "height": 34
        },
        "outputId": "9f1362ae-6bf8-40e4-8cd9-ce27f9d79b70"
      },
      "source": [
        "shape_net.SGD(s_training_data, 10, 10, 0.1, s_test_data)\n",
        "label_map = [\"Square\", \"Cap\", \"L-Shape\", \"Other\"]\n",
        "\n",
        "# helper function to apply the model to get the shape name\n",
        "def getShape(mat):\n",
        "    out = shape_net.feedforward(mat.reshape(16,1))\n",
        "    result = np.argmax(out)\n",
        "    print(result)\n",
        "    return label_map[result]\n",
        "#print(shape_net.test_accuracy(s_training_data))\n",
        "#shape_net.test_accuracy(s_test_data)"
      ],
      "execution_count": null,
      "outputs": [
        {
          "output_type": "stream",
          "text": [
            "End of SGD\n"
          ],
          "name": "stdout"
        }
      ]
    },
    {
      "cell_type": "markdown",
      "metadata": {
        "id": "T95qxS8PtL9w"
      },
      "source": [
        "#Graph for Shapes"
      ]
    },
    {
      "cell_type": "code",
      "metadata": {
        "id": "GCKFsZU6tN4n",
        "colab": {
          "base_uri": "https://localhost:8080/",
          "height": 295
        },
        "outputId": "4044a93a-f668-49cc-e72a-0035ee739f2f"
      },
      "source": [
        "\n",
        "n1 = 10\n",
        "n2 = 20\n",
        "amp = 4\n",
        "#time = [i/1000.0 for i in range (0,1000)] # for one second\n",
        "time = [i for i in range (10)] #number of epochs \n",
        "# let angular velocity be 1 radian per second\n",
        "#wave1 = [amp*math.sin(n1*t)  for t in time]\n",
        "wave1 = [error for error in shape_net.train_cost_history]\n",
        "wave2 = [error for error in shape_net.test_cost_history]\n",
        "####superposition of two waves is obtained by adding their values at each instance of time\n",
        "superposition = [wave1[i] + wave2[i] for i in range(len(time))]\n",
        "plt.plot(time, wave1, 'b--', label = \"Wave #1\")\n",
        "plt.plot(time,wave2, 'g',  label = \"Wave #2\")\n",
        "plt.plot(time, superposition, 'r-',  label = \"Superposition of wave #1 and wave #2\")\n",
        "plt.legend()\n",
        "plt.xlabel(\"Time - t\")\n",
        "plt.ylabel(\"Dispacement - x\")\n",
        "plt.title(\"Superposition of two waves\")\n",
        "plt.grid()\n",
        "plt.show()"
      ],
      "execution_count": null,
      "outputs": [
        {
          "output_type": "display_data",
          "data": {
            "image/png": "[encoded data removed]",
            "text/plain": [
              "<Figure size 432x288 with 1 Axes>"
            ]
          },
          "metadata": {
            "tags": [],
            "needs_background": "light"
          }
        }
      ]
    },
    {
      "cell_type": "markdown",
      "metadata": {
        "id": "GA0-mWlPwcVn"
      },
      "source": [
        "## Testing the model manually"
      ]
    },
    {
      "cell_type": "code",
      "metadata": {
        "id": "f5WJo70YwZ_Z",
        "colab": {
          "base_uri": "https://localhost:8080/",
          "height": 134
        },
        "outputId": "a1b624fe-ee58-4a1e-c8d2-bb3ea415ea1d"
      },
      "source": [
        "test_mat = np.array([\n",
        "    0.9,0.88, 0.7,  0.9,\n",
        "    0.9,0.22,0.1,  0.9,\n",
        "    0.9,0.21,0.02, 0.9,\n",
        "    0.9,0.8, 0.9,  0.9]\n",
        ").reshape((4,4))\n",
        "\n",
        "print(\"Predicted Shape is: \", getShape(test_mat))\n",
        "drawMatrix(test_mat.tolist())"
      ],
      "execution_count": null,
      "outputs": [
        {
          "output_type": "stream",
          "text": [
            "0\n",
            "Predicted Shape is:  Square\n"
          ],
          "name": "stdout"
        },
        {
          "output_type": "execute_result",
          "data": {
            "text/html": [
              "<img src=\"data:image/svg+xml;base64,PD94bWwgdmVyc2lvbj0iMS4wIiBlbmNvZGluZz0iVVRGLTgiPz4KPHN2ZyB4bWxucz0iaHR0cDovL3d3dy53My5vcmcvMjAwMC9zdmciIHhtbG5zOnhsaW5rPSJodHRwOi8vd3d3LnczLm9yZy8xOTk5L3hsaW5rIgogICAgIHdpZHRoPSI4MCIgaGVpZ2h0PSI4MCIgdmlld0JveD0iMCAtNDAgNDAgNDAiPgo8ZGVmcz4KPC9kZWZzPgo8cmVjdCB4PSIwIiB5PSItMzkiIHdpZHRoPSI5IiBoZWlnaHQ9IjkiIGZpbGw9IiNlNjAwMDAiIC8+CjxyZWN0IHg9IjEwIiB5PSItMzkiIHdpZHRoPSI5IiBoZWlnaHQ9IjkiIGZpbGw9IiNlMDAwMDAiIC8+CjxyZWN0IHg9IjIwIiB5PSItMzkiIHdpZHRoPSI5IiBoZWlnaHQ9IjkiIGZpbGw9IiNiMjAwMDAiIC8+CjxyZWN0IHg9IjMwIiB5PSItMzkiIHdpZHRoPSI5IiBoZWlnaHQ9IjkiIGZpbGw9IiNlNjAwMDAiIC8+CjxyZWN0IHg9IjAiIHk9Ii0yOSIgd2lkdGg9IjkiIGhlaWdodD0iOSIgZmlsbD0iI2U2MDAwMCIgLz4KPHJlY3QgeD0iMTAiIHk9Ii0yOSIgd2lkdGg9IjkiIGhlaWdodD0iOSIgZmlsbD0iIzM4MDAwMCIgLz4KPHJlY3QgeD0iMjAiIHk9Ii0yOSIgd2lkdGg9IjkiIGhlaWdodD0iOSIgZmlsbD0iIzFhMDAwMCIgLz4KPHJlY3QgeD0iMzAiIHk9Ii0yOSIgd2lkdGg9IjkiIGhlaWdodD0iOSIgZmlsbD0iI2U2MDAwMCIgLz4KPHJlY3QgeD0iMCIgeT0iLTE5IiB3aWR0aD0iOSIgaGVpZ2h0PSI5IiBmaWxsPSIjZTYwMDAwIiAvPgo8cmVjdCB4PSIxMCIgeT0iLTE5IiB3aWR0aD0iOSIgaGVpZ2h0PSI5IiBmaWxsPSIjMzYwMDAwIiAvPgo8cmVjdCB4PSIyMCIgeT0iLTE5IiB3aWR0aD0iOSIgaGVpZ2h0PSI5IiBmaWxsPSIjMDUwMDAwIiAvPgo8cmVjdCB4PSIzMCIgeT0iLTE5IiB3aWR0aD0iOSIgaGVpZ2h0PSI5IiBmaWxsPSIjZTYwMDAwIiAvPgo8cmVjdCB4PSIwIiB5PSItOSIgd2lkdGg9IjkiIGhlaWdodD0iOSIgZmlsbD0iI2U2MDAwMCIgLz4KPHJlY3QgeD0iMTAiIHk9Ii05IiB3aWR0aD0iOSIgaGVpZ2h0PSI5IiBmaWxsPSIjY2MwMDAwIiAvPgo8cmVjdCB4PSIyMCIgeT0iLTkiIHdpZHRoPSI5IiBoZWlnaHQ9IjkiIGZpbGw9IiNlNjAwMDAiIC8+CjxyZWN0IHg9IjMwIiB5PSItOSIgd2lkdGg9IjkiIGhlaWdodD0iOSIgZmlsbD0iI2U2MDAwMCIgLz4KPC9zdmc+\">"
            ],
            "text/plain": [
              "<drawSvg.drawing.Drawing at 0x7f58f4063dd8>"
            ]
          },
          "metadata": {
            "tags": []
          },
          "execution_count": 122
        }
      ]
    },
    {
      "cell_type": "code",
      "metadata": {
        "id": "jNP-MDjPwfuv",
        "colab": {
          "base_uri": "https://localhost:8080/",
          "height": 134
        },
        "outputId": "c4a97d42-c0a3-419f-8df2-1ca864639482"
      },
      "source": [
        "test_mat = np.array([\n",
        "    0.9,0.2, 0.9,  0.0,\n",
        "    0.9,0.22,0.1,  0.01,\n",
        "    0.9,0.21,0.02, 0.02,\n",
        "    0.9,0.8, 0.9,  0.01]\n",
        ").reshape((4,4))\n",
        "\n",
        "print(\"Predicted Shape is: \", getShape(test_mat))\n",
        "drawMatrix(test_mat.tolist())"
      ],
      "execution_count": null,
      "outputs": [
        {
          "output_type": "stream",
          "text": [
            "2\n",
            "Predicted Shape is:  L-Shape\n"
          ],
          "name": "stdout"
        },
        {
          "output_type": "execute_result",
          "data": {
            "text/html": [
              "<img src=\"data:image/svg+xml;base64,PD94bWwgdmVyc2lvbj0iMS4wIiBlbmNvZGluZz0iVVRGLTgiPz4KPHN2ZyB4bWxucz0iaHR0cDovL3d3dy53My5vcmcvMjAwMC9zdmciIHhtbG5zOnhsaW5rPSJodHRwOi8vd3d3LnczLm9yZy8xOTk5L3hsaW5rIgogICAgIHdpZHRoPSI4MCIgaGVpZ2h0PSI4MCIgdmlld0JveD0iMCAtNDAgNDAgNDAiPgo8ZGVmcz4KPC9kZWZzPgo8cmVjdCB4PSIwIiB5PSItMzkiIHdpZHRoPSI5IiBoZWlnaHQ9IjkiIGZpbGw9IiNlNjAwMDAiIC8+CjxyZWN0IHg9IjEwIiB5PSItMzkiIHdpZHRoPSI5IiBoZWlnaHQ9IjkiIGZpbGw9IiMzMzAwMDAiIC8+CjxyZWN0IHg9IjIwIiB5PSItMzkiIHdpZHRoPSI5IiBoZWlnaHQ9IjkiIGZpbGw9IiNlNjAwMDAiIC8+CjxyZWN0IHg9IjMwIiB5PSItMzkiIHdpZHRoPSI5IiBoZWlnaHQ9IjkiIGZpbGw9IiMwMDAwMDAiIC8+CjxyZWN0IHg9IjAiIHk9Ii0yOSIgd2lkdGg9IjkiIGhlaWdodD0iOSIgZmlsbD0iI2U2MDAwMCIgLz4KPHJlY3QgeD0iMTAiIHk9Ii0yOSIgd2lkdGg9IjkiIGhlaWdodD0iOSIgZmlsbD0iIzM4MDAwMCIgLz4KPHJlY3QgeD0iMjAiIHk9Ii0yOSIgd2lkdGg9IjkiIGhlaWdodD0iOSIgZmlsbD0iIzFhMDAwMCIgLz4KPHJlY3QgeD0iMzAiIHk9Ii0yOSIgd2lkdGg9IjkiIGhlaWdodD0iOSIgZmlsbD0iIzAzMDAwMCIgLz4KPHJlY3QgeD0iMCIgeT0iLTE5IiB3aWR0aD0iOSIgaGVpZ2h0PSI5IiBmaWxsPSIjZTYwMDAwIiAvPgo8cmVjdCB4PSIxMCIgeT0iLTE5IiB3aWR0aD0iOSIgaGVpZ2h0PSI5IiBmaWxsPSIjMzYwMDAwIiAvPgo8cmVjdCB4PSIyMCIgeT0iLTE5IiB3aWR0aD0iOSIgaGVpZ2h0PSI5IiBmaWxsPSIjMDUwMDAwIiAvPgo8cmVjdCB4PSIzMCIgeT0iLTE5IiB3aWR0aD0iOSIgaGVpZ2h0PSI5IiBmaWxsPSIjMDUwMDAwIiAvPgo8cmVjdCB4PSIwIiB5PSItOSIgd2lkdGg9IjkiIGhlaWdodD0iOSIgZmlsbD0iI2U2MDAwMCIgLz4KPHJlY3QgeD0iMTAiIHk9Ii05IiB3aWR0aD0iOSIgaGVpZ2h0PSI5IiBmaWxsPSIjY2MwMDAwIiAvPgo8cmVjdCB4PSIyMCIgeT0iLTkiIHdpZHRoPSI5IiBoZWlnaHQ9IjkiIGZpbGw9IiNlNjAwMDAiIC8+CjxyZWN0IHg9IjMwIiB5PSItOSIgd2lkdGg9IjkiIGhlaWdodD0iOSIgZmlsbD0iIzAzMDAwMCIgLz4KPC9zdmc+\">"
            ],
            "text/plain": [
              "<drawSvg.drawing.Drawing at 0x7f58f40640f0>"
            ]
          },
          "metadata": {
            "tags": []
          },
          "execution_count": 123
        }
      ]
    },
    {
      "cell_type": "code",
      "metadata": {
        "id": "P4LXoodhwkmO",
        "colab": {
          "base_uri": "https://localhost:8080/",
          "height": 420
        },
        "outputId": "ff201283-0884-434a-955d-a03f2c709aa5"
      },
      "source": [
        "#@title\n",
        "# we can see the weights of the neurons using following\n",
        "print(shape_net.weights[0])"
      ],
      "execution_count": null,
      "outputs": [
        {
          "output_type": "stream",
          "text": [
            "[[-2.72424672e-01  4.31524094e-01 -1.49772049e+00 -3.94614399e-01\n",
            "  -9.38064095e-01  2.35031915e+00  2.69261403e+00 -1.12909724e-01\n",
            "  -1.45068171e+00  3.30509318e+00  1.24212168e+00 -8.14572174e-01\n",
            "   6.05652744e-02  9.33536034e-01  9.26371194e-01 -5.94249662e-01]\n",
            " [ 3.72869065e-01 -1.72663769e+00 -8.00120576e-01  1.07296188e+00\n",
            "  -1.97524370e-01 -9.43696593e-01  6.00824693e-02  2.84007255e-01\n",
            "  -1.15172691e+00  2.02672207e-01 -2.02858319e+00  9.86041418e-01\n",
            "  -9.54650206e-01  2.78456948e-03 -4.18898488e-02 -1.70902579e-01]\n",
            " [ 1.47934835e+00  3.76217314e-01  9.30200104e-01  1.36318408e+00\n",
            "   6.99349876e-02 -8.45131486e-02  6.92128094e-01  2.31153864e+00\n",
            "   6.75627821e-01 -4.59173116e-01 -3.30955205e-01  2.47776535e-01\n",
            "   1.91152202e+00 -1.99311571e-01  5.25756545e-03  6.28155556e-01]\n",
            " [-1.56696432e+00  1.57454110e+00  1.47463711e+00  7.66187193e-01\n",
            "  -1.40059321e+00  1.59742541e+00  1.10152244e+00  1.20220895e+00\n",
            "  -9.44896981e-01  9.51439778e-01  2.02498247e+00  1.75868768e-01\n",
            "   1.33306287e+00  1.24806790e+00 -2.46147874e-01  6.64855837e-01]\n",
            " [ 4.81248057e-01 -8.18355486e-01  7.91746074e-01 -9.93788324e-01\n",
            "  -1.96924520e+00  3.69406590e-01  7.48740463e-01  1.66952191e-01\n",
            "   1.04595959e-02 -1.35654282e+00 -2.47289474e-01 -1.65421798e+00\n",
            "   3.30087677e+00  2.13637865e+00  1.21266363e+00  1.22277642e+00]\n",
            " [ 2.74103162e-01 -7.79240491e-01  3.25705883e-01 -9.44823894e-01\n",
            "  -7.04070888e-01  1.17018055e+00  6.95080119e-01 -1.14496278e+00\n",
            "   1.02173043e+00 -2.05185691e+00 -2.72565993e-01 -1.08096259e+00\n",
            "   6.41107316e-01  5.12031844e-01  8.82074472e-01  8.23497194e-01]]\n"
          ],
          "name": "stdout"
        }
      ]
    }
  ]
}